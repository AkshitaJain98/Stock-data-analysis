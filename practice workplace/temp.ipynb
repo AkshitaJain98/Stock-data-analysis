{
 "cells": [
  {
   "cell_type": "code",
   "execution_count": 11,
   "metadata": {},
   "outputs": [],
   "source": [
    "import pandas as pd\n",
    "all_stock_df = pd.read_csv(\n",
    "    'D:/Documents/College docs/Sem III/Mini project/data/NIFTY50_all.csv')\n",
    "all_stock_df = all_stock_df.loc[~(all_stock_df[\"Prev Close\"] == 10) | ~(all_stock_df[\"Symbol\"] == \"UNIPHOS\")]\n",
    "\n",
    "all_stock_df.to_csv(\n",
    "    \"D:/Documents/College docs/Sem III/Mini project/data/NIFTY50_all.csv\", index=False)\n",
    "\n",
    "\n"
   ]
  }
 ],
 "metadata": {
  "interpreter": {
   "hash": "2a8199c9797ac09be80a71831cc1b40cf616fda37de8a51ad22b4df4ad122972"
  },
  "kernelspec": {
   "display_name": "Python 3.7.7 32-bit",
   "name": "python3"
  },
  "language_info": {
   "codemirror_mode": {
    "name": "ipython",
    "version": 3
   },
   "file_extension": ".py",
   "mimetype": "text/x-python",
   "name": "python",
   "nbconvert_exporter": "python",
   "pygments_lexer": "ipython3",
   "version": "3.7.7"
  },
  "orig_nbformat": 4
 },
 "nbformat": 4,
 "nbformat_minor": 2
}
